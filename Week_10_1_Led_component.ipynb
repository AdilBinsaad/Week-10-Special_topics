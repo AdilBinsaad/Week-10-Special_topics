{
 "cells": [
  {
   "cell_type": "markdown",
   "id": "fe344a95",
   "metadata": {
    "language_info": {
     "name": "polyglot-notebook"
    },
    "polyglot_notebook": {
     "kernelName": "csharp"
    }
   },
   "source": [
    "# การสร้าง ESP32 LED Component\n",
    "\n",
    "ESP-IDF รองรับการเขียนโปรแกรมในภาษา C++ ช่วยให้สามารถสร้าง component ในลักษณะ object ได้ ซึ่งจะทำให้การเขียนโปรแกรมทำได้อย่างเป็นธรรมชาติมากขึ้น\n",
    "\n",
    "พิจารณา class LED เบื้องต้นที่มีองค์ประกอบอย่างง่าย "
   ]
  },
  {
   "attachments": {
    "image.png": {
     "image/png": "[encoded data removed]"
    }
   },
   "cell_type": "markdown",
   "id": "21087e7a",
   "metadata": {},
   "source": [
    " ![image.png](attachment:image.png)"
   ]
  },
  {
   "cell_type": "markdown",
   "id": "75382d7b",
   "metadata": {},
   "source": [
    "|element| Description|\n",
    "|-------|------------|\n",
    "|  Port_Number : int | กำหนดหมายเลขพอร์ตที่เชื่อมต่อกับ  LED|\n",
    "|  LED(Port_Number : int) | Constructor ทำหน้าที่กำหนดค่าต่าง ๆ ในตอนสร้าง object เช่น การกำหนดทิศทางของพอร์ต มีพารามิเตอร์ 1 ตัวตือหมายเลขขาของพอร์ตที่เชื่อมต่อกับ LED|\n",
    "|  ON() : void  | สั่งให้ LED ติด |\n",
    "|  OFF() : void | สั่งให้ LED ดับ |\n",
    "\n"
   ]
  },
  {
   "cell_type": "markdown",
   "id": "0aeca658",
   "metadata": {},
   "source": [
    "\n",
    "## สำดับการทดลอง\n",
    "### 1. สร้าง  project ใหม่ ชื่อ LED_Test\n",
    "\n",
    "```bash\n",
    "    idf.py create-project LED_Test\n",
    "```\n"
   ]
  },
  {
   "cell_type": "markdown",
   "id": "ccb75028",
   "metadata": {},
   "source": [
    "### 2. สร้าง  Component ใหม่ ชื่อ LED\n",
    "\n",
    "``` bash\n",
    "    mkdir S67890\n",
    "    cd S67890\n",
    "    idf.py create-component LED\n",
    "```\n",
    "\n",
    "**หมายเหตุ** เปลี่ยน S67890 เป็นรหัสนักศึกษา"
   ]
  },
  {
   "cell_type": "markdown",
   "id": "151d0274",
   "metadata": {},
   "source": [
    "\n",
    "2.1 เปลี่ยนชื่อไฟล์ LED.c เป็น LED.cpp\n",
    "\n",
    "2.2 เพิ่มการประกาศคลาสลงใน LED.h โดยให้ใส่ `#include \"driver/gpio.h\"` ด้วย เพื่อใช้งาน GPIO\n",
    "\n"
   ]
  },
  {
   "cell_type": "markdown",
   "id": "0bb7a448",
   "metadata": {},
   "source": [
    "##### ไฟล์ LED.h\n"
   ]
  },
  {
   "cell_type": "code",
   "execution_count": null,
   "metadata": {
    "language_info": {
     "name": "polyglot-notebook"
    },
    "polyglot_notebook": {
     "kernelName": "csharp"
    }
   },
   "outputs": [],
   "source": [
    "#include \"driver/gpio.h\" \n",
    "\n",
    "class LED\n",
    "{\n",
    "    int PinNumber;\n",
    "public:\n",
    "    LED(int PinNumber);\n",
    "    void ON();\n",
    "    void OFF();\n",
    "};"
   ]
  },
  {
   "cell_type": "markdown",
   "id": "93a22b49",
   "metadata": {},
   "source": [
    "2.3 แก้ไขไฟล์ LED.cpp ให้เป็นดังนี้"
   ]
  },
  {
   "cell_type": "markdown",
   "id": "27387fc8",
   "metadata": {},
   "source": [
    "\n",
    "##### ไฟล์  LED.cpp\n"
   ]
  },
  {
   "cell_type": "code",
   "execution_count": null,
   "id": "3c582c3e",
   "metadata": {
    "language_info": {
     "name": "polyglot-notebook"
    },
    "polyglot_notebook": {
     "kernelName": "csharp"
    }
   },
   "outputs": [],
   "source": [
    "#include <stdio.h>\n",
    "#include \"LED.h\"\n",
    "\n",
    "LED::LED(int Pin)\n",
    "{\n",
    "    PinNumber = Pin;\n",
    "    gpio_set_direction((gpio_num_t)PinNumber, GPIO_MODE_OUTPUT);\n",
    "}\n",
    "\n",
    "void LED::ON()\n",
    "{\n",
    "    gpio_set_level((gpio_num_t)PinNumber,1);\n",
    "}\n",
    "\n",
    "void LED::OFF()\n",
    "{\n",
    "    gpio_set_level((gpio_num_t)PinNumber,0);\n",
    "}"
   ]
  },
  {
   "cell_type": "markdown",
   "id": "cbc9689d",
   "metadata": {},
   "source": [
    "2.4 แก้ไขไฟล์ CMakeLists.txt ใน component/LED ให้เป็นดังต่อไปนี้"
   ]
  },
  {
   "cell_type": "markdown",
   "id": "8bf000a5",
   "metadata": {},
   "source": [
    "##### CMAkeLists.txt (ใน component/LED)"
   ]
  },
  {
   "cell_type": "code",
   "execution_count": null,
   "id": "f759b468",
   "metadata": {
    "language_info": {
     "name": "polyglot-notebook"
    },
    "polyglot_notebook": {
     "kernelName": "csharp"
    }
   },
   "outputs": [],
   "source": [
    "idf_component_register(SRCS \"LED.cpp\"\n",
    "        INCLUDE_DIRS \"include\"\n",
    "        REQUIRES driver)"
   ]
  },
  {
   "cell_type": "markdown",
   "id": "d240c856",
   "metadata": {},
   "source": [
    "### 3. แก้ไขไฟล์ต่าง ๆ ใน Main\n",
    "\n",
    "3.1 เปลี่ยนชื่อไฟล์ LED_Test.c เป็น main.cpp\n",
    "\n",
    "3.2 แก้ไขไฟล์ CMakeLists.txt ใน Main เพื่อเปลี่ยนชื่อไฟล์ LED_Test.c เป็น main.cpp\n"
   ]
  },
  {
   "cell_type": "markdown",
   "id": "17491515",
   "metadata": {},
   "source": [
    "#### CMAkeLists.txt (ใน Main)"
   ]
  },
  {
   "cell_type": "code",
   "execution_count": null,
   "id": "c3312d08",
   "metadata": {
    "language_info": {
     "name": "polyglot-notebook"
    },
    "polyglot_notebook": {
     "kernelName": "csharp"
    }
   },
   "outputs": [],
   "source": [
    "idf_component_register(SRCS \"main.cpp\"\n",
    "                    INCLUDE_DIRS \".\"\n",
    "                    REQUIRES LED)"
   ]
  },
  {
   "cell_type": "markdown",
   "id": "a4e611a4",
   "metadata": {},
   "source": [
    "\n",
    "3.3 แก้ไขไฟล์ main.cpp\n"
   ]
  },
  {
   "cell_type": "code",
   "execution_count": null,
   "id": "1ebdda62",
   "metadata": {
    "language_info": {
     "name": "polyglot-notebook"
    },
    "polyglot_notebook": {
     "kernelName": "csharp"
    }
   },
   "outputs": [],
   "source": [
    "\n",
    "#include <stdio.h>\n",
    "#include \"freertos/FreeRTOS.h\"\n",
    "#include \"freertos/task.h\"\n",
    "#include \"LED.h\"\n",
    "\n",
    "extern \"C\" void app_main(void);\n",
    "\n",
    "void app_main(void)\n",
    "{\n",
    "    LED led1(5); \n",
    "    LED led2(17); \n",
    "    while(1)\n",
    "    {        \n",
    "        led1.ON();\n",
    "        led2.OFF();\n",
    "        vTaskDelay(500/portTICK_PERIOD_MS);\n",
    "        led1.OFF();\n",
    "        led2.ON();\n",
    "        vTaskDelay(500/portTICK_PERIOD_MS);\n",
    "    }\n",
    "}"
   ]
  },
  {
   "cell_type": "markdown",
   "id": "de7bc292",
   "metadata": {},
   "source": [
    "### 4. แก้ไข CMakeLists ใน root เพื่อให้รู้จัก LED component\n"
   ]
  },
  {
   "cell_type": "code",
   "execution_count": null,
   "id": "0b010202",
   "metadata": {
    "language_info": {
     "name": "polyglot-notebook"
    },
    "polyglot_notebook": {
     "kernelName": "csharp"
    }
   },
   "outputs": [],
   "source": [
    "# The following five lines of boilerplate have to be in your project's\n",
    "# CMakeLists in this exact order for cmake to work correctly\n",
    "cmake_minimum_required(VERSION 3.16)\n",
    "\n",
    "set(EXTRA_COMPONENT_DIRS \"../S67890/LED\")   # เพิ่มบรรทัดนี้\n",
    "\n",
    "include($ENV{IDF_PATH}/tools/cmake/project.cmake)\n",
    "project(LED_Test)\n"
   ]
  },
  {
   "cell_type": "markdown",
   "id": "c6ebd4ad",
   "metadata": {},
   "source": [
    "### 5. Build และทดสอบบนบอร์ด ESP32\n",
    "\n",
    "``` bash\n",
    "    cd LED_Test\n",
    "    idf.py build\n",
    "```"
   ]
  },
  {
   "cell_type": "markdown",
   "id": "0174e4f2",
   "metadata": {},
   "source": [
    "### 6.Push โฟลเดอร์ S67890 เป็น repository บน github\n",
    "\n",
    "เราจะใช้ใน project ถัดไป"
   ]
  }
 ],
 "metadata": {
  "kernelspec": {
   "display_name": ".NET (C#)",
   "language": "C#",
   "name": ".net-csharp"
  },
  "language_info": {
   "name": "polyglot-notebook"
  },
  "polyglot_notebook": {
   "kernelInfo": {
    "defaultKernelName": "csharp",
    "items": [
     {
      "aliases": [],
      "languageName": "csharp",
      "name": "csharp"
     }
    ]
   }
  }
 },
 "nbformat": 4,
 "nbformat_minor": 5
}
