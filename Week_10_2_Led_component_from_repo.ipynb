{
 "cells": [
  {
   "cell_type": "markdown",
   "id": "d3afc3e9",
   "metadata": {
    "language_info": {
     "name": "polyglot-notebook"
    },
    "polyglot_notebook": {
     "kernelName": "csharp"
    }
   },
   "source": [
    "# Lab10-ESP32-Use-LED-Component\n",
    "\n",
    "การ build ด้วย CMake ช่วยให้โปรเจค ESP32 สามารถดึง component จากที่ต่าง ๆ มาร่วมสร้างโปรแกรมได้ ทั้งนี้โดยการสร้างไฟล์ idf_component.yml ไว้ในโฟลเดอร์ Main\n",
    "\n",
    "\n",
    "```mermaid\n",
    "graph RL\n",
    "  A[(LED Component)] --> |idf_component.yml| B(ESP32 Project) \n",
    "  linkStyle 0   stroke-width:2px,  fill:none,stroke:red; \n",
    "```\n",
    "\n",
    "การดึง component มาใช้งาน ช่วยให้ประหยัดเวลาและลดข้อผืดพลาดในการเขียนโปรแกรมได้มาก\n",
    "\n",
    "## การทดลองนำเข้า component จาก github\n",
    "\n",
    "### 1.สร้าง ESP32 project ใหม่ \"ไฟกระพริบด้วย component\"\n",
    "\n",
    "1.1 ตั้งชื่อโปรเจค  `LED_Flash_with_component`\n",
    "\n",
    "1.2 สร้างไฟล์ idf_component.yml ขึ้นใน Main พร้อมใส่เนื้อหาต่อไปนี้\n"
   ]
  },
  {
   "cell_type": "markdown",
   "id": "db1abdf3",
   "metadata": {},
   "source": [
    "``` yml\n",
    "dependencies:\n",
    "  LED:\n",
    "    git: https://github.com/koson/LED_Test.git    # เปลี่ยนเป็น url ที่นักศึกษา push ไว้บน git\n",
    "    path: components/LED\n",
    "```"
   ]
  },
  {
   "cell_type": "markdown",
   "id": "e9994fb8",
   "metadata": {},
   "source": [
    "\n",
    "หมายเหตุ ในบรรทัด git: ให้ใส่ชื่อ repository ของนักศึกษาที่มีคอมโพเนนท์ LED\n",
    "\n",
    "1.3 แก้ไขไฟล์ CMAkeLists.txt โดยเปลี่ยน  `main.c` เป็น `main.cpp` ดังต่อไปนี้"
   ]
  },
  {
   "cell_type": "code",
   "execution_count": null,
   "id": "336d0f8a",
   "metadata": {},
   "outputs": [],
   "source": [
    "idf_component_register(SRCS \"main.cpp\"\n",
    "                    INCLUDE_DIRS \".\")\n"
   ]
  },
  {
   "cell_type": "markdown",
   "id": "db40b3b4",
   "metadata": {},
   "source": [
    "1.4 เปลี่ยนชื่อไฟล์  `main.c` เป็น `main.cpp` และแก้ code  เป็นดังนี้"
   ]
  },
  {
   "cell_type": "code",
   "execution_count": null,
   "id": "d91b3855",
   "metadata": {},
   "outputs": [],
   "source": [
    "#include <stdio.h>\n",
    "#include \"freertos/FreeRTOS.h\"\n",
    "#include \"freertos/task.h\"\n",
    "#include \"LED.h\"\n",
    "\n",
    "extern \"C\" void app_main(void);\n",
    "\n",
    "void app_main(void)\n",
    "{\n",
    "    LED led1(5); \n",
    "    LED led2(17); \n",
    "    while(1)\n",
    "    {        \n",
    "        led1.ON();\n",
    "        led2.OFF();\n",
    "        vTaskDelay(500/portTICK_PERIOD_MS);\n",
    "        led1.OFF();\n",
    "        led2.ON();\n",
    "        vTaskDelay(500/portTICK_PERIOD_MS);\n",
    "    }\n",
    "}"
   ]
  },
  {
   "cell_type": "markdown",
   "id": "283b5489",
   "metadata": {},
   "source": [
    "\n",
    "1.5 Build และทดสอบด้วยบอร์ด ESP32 ถ้ารันผ่าน ให้ commit ขึ้นบน github\n",
    "\n",
    "จะสังเกตว่าในขั้นตอนการ build จะมีข้อความต่อไปนี้ ซึ่งเป็นการแจ้งให้ทราบว่า CMake ได้ดึง component ที่ชื่อ LED และ idf จาก internet มาร่วมสร้าง code\n",
    "\n"
   ]
  },
  {
   "cell_type": "code",
   "execution_count": null,
   "id": "54587871",
   "metadata": {},
   "outputs": [],
   "source": [
    ".....\n",
    "Processing 2 dependencies:\n",
    "[1/2] LED (838c47debbba86b33b24f9ab9ec71d2c00a4bf48)\n",
    "[2/2] idf (4.4.7)\n",
    "......"
   ]
  },
  {
   "cell_type": "markdown",
   "id": "1829efef",
   "metadata": {},
   "source": [
    "\n",
    "และใน project จะมีโฟลเดอร์ managed_components เพิ่มเข้ามา ด้านในจะมี LED อยู่เช่นเดียวกับตอนที่สร้างเป็น component ในโปรเจค\n",
    "\n",
    "\n",
    "\n",
    "\n",
    "1.6 แก้ไขไฟล์ main.cpp ให้เป็นดังนี้\n",
    "\n"
   ]
  },
  {
   "cell_type": "code",
   "execution_count": null,
   "id": "4acf7705",
   "metadata": {},
   "outputs": [],
   "source": [
    "#include <stdio.h>\n",
    "#include \"freertos/FreeRTOS.h\"\n",
    "#include \"freertos/task.h\"\n",
    "#include \"LED.h\"\n",
    "\n",
    "LED led1(16); \n",
    "LED led2(17); \n",
    "LED led3(5); \n",
    "LED led4(18); \n",
    "LED led5(19); \n",
    "LED led6(21); \n",
    "LED led7(22); \n",
    "LED led8(23); \n",
    "\n",
    "void ALL_LED_OFF()\n",
    "{\n",
    "    led1.OFF();\n",
    "    led2.OFF();\n",
    "    led3.OFF();\n",
    "    led4.OFF();\n",
    "    led5.OFF();\n",
    "    led6.OFF();\n",
    "    led7.OFF();\n",
    "    led8.OFF();\n",
    "}\n",
    "\n",
    "extern \"C\" void app_main(void)\n",
    "{\n",
    "    int i = 0;\n",
    "    while(1)\n",
    "    {        \n",
    "        switch(i)\n",
    "        {\n",
    "            case 0:\n",
    "            led1.ON();\n",
    "            break;\n",
    "            case 1:\n",
    "            led2.ON();\n",
    "            break;\n",
    "            case 2:\n",
    "            led3.ON();\n",
    "            break;\n",
    "            case 3:\n",
    "            led4.ON();\n",
    "            break;\n",
    "            case 4:\n",
    "            led5.ON();\n",
    "            break;\n",
    "            case 5:\n",
    "            led6.ON();\n",
    "            break;\n",
    "            case 6:\n",
    "            led7.ON();\n",
    "            break;\n",
    "            case 7:\n",
    "            led8.ON();\n",
    "            break;            \n",
    "        }\n",
    "        vTaskDelay(100/portTICK_PERIOD_MS);\n",
    "        ALL_LED_OFF();\n",
    "        if(i++ >= 7) i = 0;\n",
    "    }\n",
    "}\n"
   ]
  },
  {
   "cell_type": "markdown",
   "id": "0da7354e",
   "metadata": {},
   "source": [
    "1.8 เชื่อมต่อสายไปยัง LED ตาม code ที่ปรากฏ เช่น `LED led1(16);` หมายถึงต่อ LED1 เช้ากับขา 16 เป็นต้น\n",
    "\n",
    "1.9 Build และทดสอบด้วยบอร์ด ESP32 ถ้ารันผ่าน ให้ commit ขึ้นบน github\n",
    "\n",
    "1.10 แก้ไขไฟล์ main.cpp ให้เป็นดังนี้\n",
    "\n"
   ]
  },
  {
   "cell_type": "code",
   "execution_count": null,
   "id": "cbb3e89a",
   "metadata": {},
   "outputs": [],
   "source": [
    "#include <stdio.h>\n",
    "#include \"freertos/FreeRTOS.h\"\n",
    "#include \"freertos/task.h\"\n",
    "#include \"LED.h\"\n",
    "\n",
    "LED led1(16); \n",
    "LED led2(17); \n",
    "LED led3(5); \n",
    "LED led4(18); \n",
    "LED led5(19); \n",
    "LED led6(21); \n",
    "LED led7(22); \n",
    "LED led8(23); \n",
    "\n",
    "LED leds[] = {led1, led2, led3, led4, led5, led6, led7, led8};\n",
    "\n",
    "extern \"C\" void app_main(void)\n",
    "{\n",
    "    int i = 0;\n",
    "    while(1)\n",
    "    {        \n",
    "        leds[i].ON();\n",
    "        vTaskDelay(100/portTICK_PERIOD_MS);\n",
    "        leds[i].OFF();\n",
    "        if(i++ >= 7) i = 0;\n",
    "    }\n",
    "}\n",
    "\n"
   ]
  },
  {
   "cell_type": "markdown",
   "id": "5f3d8b38",
   "metadata": {},
   "source": [
    "1.11 Build และทดสอบด้วยบอร์ด ESP32 ถ้ารันผ่าน ให้ commit ขึ้นบน github\n",
    "\n",
    "\n",
    "## Challenge\n",
    "\n",
    "ให้ทำไฟวิ่งเป็น pattern วิ่งวนลูป ดังต่อไปนี้ \n",
    "`*` หมายถึงหลอดไฟติด \n",
    "`.` หมายถึงหลอดไฟดับ\n",
    "\n",
    "1. ไฟวิ่งดวงเดียว \n",
    "```\n",
    "    *.......\n",
    "    .*......\n",
    "    ..*.....\n",
    "    ...*....\n",
    "    ....*...\n",
    "    .....*..\n",
    "    ......*.\n",
    "    .......*\n",
    "```\n",
    "\n",
    "2. ไฟวิ่งสองดวงสวนกันตรงกลาง \n",
    "```\n",
    "    *......*\n",
    "    .*....*.\n",
    "    ..*..*..\n",
    "    ...**...\n",
    "    ...**...\n",
    "    ..*..*..\n",
    "    .*....*.\n",
    "    *......*\n",
    "```\n",
    "\n",
    "3. ไฟวิ่งไปกลับ \n",
    "```\n",
    "    *.......\n",
    "    .*......\n",
    "    ..*.....\n",
    "    ...*....\n",
    "    ....*...\n",
    "    .....*..\n",
    "    ......*.\n",
    "    .......*\n",
    "    ......*.\n",
    "    .....*..\n",
    "    ....*...\n",
    "    ...*....\n",
    "    ..*.....\n",
    "    .*......\n",
    "    *.......\n",
    "```\n"
   ]
  }
 ],
 "metadata": {
  "kernelspec": {
   "display_name": ".NET (C#)",
   "language": "C#",
   "name": ".net-csharp"
  },
  "language_info": {
   "name": "polyglot-notebook"
  },
  "polyglot_notebook": {
   "kernelInfo": {
    "defaultKernelName": "csharp",
    "items": [
     {
      "aliases": [],
      "languageName": "csharp",
      "name": "csharp"
     }
    ]
   }
  }
 },
 "nbformat": 4,
 "nbformat_minor": 5
}
